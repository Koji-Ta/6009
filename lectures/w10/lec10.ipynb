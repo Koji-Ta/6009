{
 "cells": [
  {
   "cell_type": "markdown",
   "metadata": {},
   "source": [
    "## 6.009 Week 10 Lecture\n",
    "\n",
    "In lab 8A/8B, we are implementing an interpreter for a dialect of a programming language called LISP.\n",
    "\n",
    "**Python:**\n",
    "\n",
    "```python\n",
    "def fib(n):\n",
    "    if n < 2:\n",
    "        return n\n",
    "    else:\n",
    "        return fib(n-1) + fib(n-2)\n",
    "```\n",
    "\n",
    "**Scheme (LISP):**\n",
    "\n",
    "```scheme\n",
    "(define (fib n)\n",
    "  (if (< n 2)\n",
    "    n\n",
    "    (+ (fib (- n 1)) (fib (- n 2)))\n",
    "  )\n",
    ")\n",
    "```\n",
    "\n",
    "**Why bother writing interpreters?**\n",
    "\n",
    "* It's just _so cool_\n",
    "* It can help you understand the semantics of languages you already know\n",
    "* There is something powerful about the fact that an interpreter is just another program\n",
    "\n",
    "**Why LISP?**\n",
    "\n",
    "* LISP is weird/cool\n",
    "    * \"A language that doesn't affect the way you think about programming, is not worth learning.\"  -Alan Perlis\n",
    "* LISP has very minimal syntax (spend less time thinking about  parsing and more time on evaluation)\n",
    "* MIT and LISP have a long history\n",
    "    * LISP invented here in 1958\n",
    "    * one widely-used dialect (Scheme) invented here as well, used in 6.001 from ~1980-2007"
   ]
  },
  {
   "cell_type": "markdown",
   "metadata": {},
   "source": [
    "### Today: More on Python Variable BInding/Lookup"
   ]
  },
  {
   "cell_type": "code",
   "execution_count": null,
   "metadata": {
    "collapsed": true
   },
   "outputs": [],
   "source": [
    "# brief example: HTML tagger\n",
    "\n",
    "tagger_functions = {}\n",
    "for tag in ('b', 'i', 'u', 'marquee', 'blink'):\n",
    "    tagger_functions[tag] = lambda x: '<%s>%s</%s>' % (tag, x, tag)\n",
    "    \n",
    "\n",
    "print(tagger_functions['b']('this is bold!'))"
   ]
  },
  {
   "cell_type": "markdown",
   "metadata": {},
   "source": [
    "### Python Variable Scoping and Closures\n",
    "\n",
    "In lab 8, we'll be implementing LISP variable scoping semantics.  It turns out that these semantics are almost exactly equivalent to Python's, including how function calls are handled.\n",
    "\n",
    "In particular, we'll introduce a few mechanisms for affecting variable bindings outside of the current local scope (which will have analogues in LISP)."
   ]
  },
  {
   "cell_type": "markdown",
   "metadata": {},
   "source": [
    "### 1. Python local variables shadow variables in surrounding scope"
   ]
  },
  {
   "cell_type": "code",
   "execution_count": null,
   "metadata": {
    "collapsed": true
   },
   "outputs": [],
   "source": [
    "x = 0\n",
    "def outer():\n",
    "    x = 1\n",
    "    def inner():\n",
    "        print(\"inner:\", x)\n",
    "\n",
    "    inner()\n",
    "    print(\"outer:\", x)\n",
    "\n",
    "outer()\n",
    "print(\"global:\", x)"
   ]
  },
  {
   "cell_type": "markdown",
   "metadata": {},
   "source": [
    "### 2. How does python know a variable is local?\n",
    "* If you **assign** a variable in a local scope, it's local and shadows the variable in the surrounding scope.\n",
    "* If you **access** a variable before it is assigned in the local scope, the surrounding variable is used. Note, however, that once you've accessed the variable in the surrounding scope, you can't assign to it! "
   ]
  },
  {
   "cell_type": "code",
   "execution_count": null,
   "metadata": {
    "collapsed": true
   },
   "outputs": [],
   "source": [
    "x = 0\n",
    "def outer():\n",
    "    x = 1\n",
    "    def inner():\n",
    "        print(\"inner:\", x)\n",
    "\n",
    "    inner()\n",
    "    print(\"outer:\", x)\n",
    "\n",
    "outer()\n",
    "print(\"global:\", x)"
   ]
  },
  {
   "cell_type": "markdown",
   "metadata": {},
   "source": [
    "### 3. Sharing Information: What if we want to assign a variable in the global scope?\n",
    "* Python **global** declaration tells python to use the variable in the global scope (skipping over any intervening nonlocal/surrounding scoped variables)."
   ]
  },
  {
   "cell_type": "code",
   "execution_count": null,
   "metadata": {
    "collapsed": true
   },
   "outputs": [],
   "source": [
    "x = 0\n",
    "def outer():\n",
    "    x = 1\n",
    "    def inner():\n",
    "        global x    ## THIS WAS CHANGED\n",
    "        x = 2\n",
    "        print(\"inner:\", x)\n",
    "\n",
    "    inner()\n",
    "    print(\"outer:\", x)\n",
    "\n",
    "outer()\n",
    "print(\"global:\", x)"
   ]
  },
  {
   "cell_type": "markdown",
   "metadata": {},
   "source": [
    "### 4. What if we want to assign a variable in the surrounding scope?\n",
    "* Python **nonlocal** declaration tells python to use the variable in the nearest surrounding scope (except global scope)."
   ]
  },
  {
   "cell_type": "code",
   "execution_count": null,
   "metadata": {
    "collapsed": true
   },
   "outputs": [],
   "source": [
    "x = 0\n",
    "def outer():\n",
    "    x = 1\n",
    "    def inner():\n",
    "        nonlocal x    ## HERE IS THE CHANGE\n",
    "        x = 2\n",
    "        print(\"inner:\", x)\n",
    "\n",
    "    inner()\n",
    "    print(\"outer:\", x)\n",
    "\n",
    "outer()\n",
    "print(\"global:\", x)"
   ]
  },
  {
   "cell_type": "markdown",
   "metadata": {},
   "source": [
    "* Note that a **nonlocal** variable needs to be present in a surrounding scope, not including the global scope."
   ]
  },
  {
   "cell_type": "markdown",
   "metadata": {},
   "source": [
    "## Python Closures Example\n",
    "The idea of a \"closure\" is that a function definition remembers the environment in which it was defined, so that later when the function is called the function has access to the variables in the enclosing environment."
   ]
  },
  {
   "cell_type": "code",
   "execution_count": null,
   "metadata": {},
   "outputs": [],
   "source": [
    "def derivative(func, delta=1e-6):\n",
    "    def _fprime(x):\n",
    "        return (func(x+delta)-func(x-delta))/(2*delta)\n",
    "    return _fprime\n",
    "\n",
    "def f(x):\n",
    "    return 4*x**3\n",
    "\n",
    "fp = derivative(f)\n",
    "fp(2)"
   ]
  },
  {
   "cell_type": "markdown",
   "metadata": {},
   "source": [
    "### Closures enable object-oriented programming styles\n",
    "In python, we have classes, methods, instances, etc., so those \n",
    "are usually most convenient. However, we could build something\n",
    "similar using the power of closures and local state. One such style\n",
    "is often referred to as **message passing**:"
   ]
  },
  {
   "cell_type": "code",
   "execution_count": null,
   "metadata": {},
   "outputs": [],
   "source": [
    "def make_account(balance):\n",
    "    pass"
   ]
  }
 ],
 "metadata": {
  "kernelspec": {
   "display_name": "Python 3",
   "language": "python",
   "name": "python3"
  },
  "language_info": {
   "codemirror_mode": {
    "name": "ipython",
    "version": 3
   },
   "file_extension": ".py",
   "mimetype": "text/x-python",
   "name": "python",
   "nbconvert_exporter": "python",
   "pygments_lexer": "ipython3",
   "version": "3.5.3"
  }
 },
 "nbformat": 4,
 "nbformat_minor": 2
}
