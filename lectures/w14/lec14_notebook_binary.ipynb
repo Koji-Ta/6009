{
 "cells": [
  {
   "cell_type": "code",
   "execution_count": 1,
   "metadata": {},
   "outputs": [
    {
     "data": {
      "application/javascript": [
       "IPython.notebook.events.off('checkpoint_created.Notebook');\n",
       "IPython.notebook.events.off('notebook_saved.Notebook');"
      ],
      "text/plain": [
       "<IPython.core.display.Javascript object>"
      ]
     },
     "metadata": {},
     "output_type": "display_data"
    }
   ],
   "source": [
    "%%javascript\n",
    "IPython.notebook.events.off('checkpoint_created.Notebook');\n",
    "IPython.notebook.events.off('notebook_saved.Notebook');"
   ]
  },
  {
   "cell_type": "markdown",
   "metadata": {},
   "source": [
    "# Working with Binary Data in Python"
   ]
  },
  {
   "cell_type": "markdown",
   "metadata": {},
   "source": [
    "The `str` type is an abstraction for representing textual data.  Each character in a `str` object represents a Unicode character.  It assumes a particular structure of the underlying binary data.\n",
    "\n",
    "However, this means that the `str` type cannot be used to represent arbitrary data.  For example:"
   ]
  },
  {
   "cell_type": "code",
   "execution_count": null,
   "metadata": {},
   "outputs": [],
   "source": [
    "with open('hanson.txt') as f:\n",
    "    contents = f.read()\n",
    "    \n",
    "print(contents)"
   ]
  },
  {
   "cell_type": "code",
   "execution_count": null,
   "metadata": {
    "scrolled": true
   },
   "outputs": [],
   "source": [
    "with open('Havana.mp3') as f:\n",
    "    contents = f.read()"
   ]
  },
  {
   "cell_type": "markdown",
   "metadata": {},
   "source": [
    "## Byte Strings\n",
    "\n",
    "Python offers a built-in type called `bytes` that represents a sequence of raw\n",
    "binary data.  While this does represent a sequence of 0's and 1's; the `bytes`\n",
    "type exposes those values to us not as individual _bits_, but rather as\n",
    "_bytes_, each of which contains 8 bits.  As such, we can think of each byte as\n",
    "representing an integer between 0 and 255 (inclusive).\n",
    "\n",
    "One way to construct bytestrings is directly from arrays of integers, for example:\n",
    "\n",
    "\n",
    "Note that `bytes` objects, in general, are not human readable like a regular Python character string.  However, it is in a format that makes it easy to directly write the data to disk,  or to send it across a network (which will be relevant for lab 9!)."
   ]
  },
  {
   "cell_type": "code",
   "execution_count": null,
   "metadata": {},
   "outputs": [],
   "source": [
    "x = bytes([207, 128])\n",
    "y = bytes([207, 132, 32, 62, 32])\n",
    "\n",
    "print(x)"
   ]
  },
  {
   "cell_type": "markdown",
   "metadata": {},
   "source": [
    "Byte strings support indexing like regular strings.  When we index into a\n",
    "bytestring, we get the integer value associated with the byte at that index\n",
    "(this will be an integer in the range 0 to 255, inclusive).  Similarly, looping\n",
    "over a bytestring gives us integer values.\n",
    "\n"
   ]
  },
  {
   "cell_type": "code",
   "execution_count": null,
   "metadata": {},
   "outputs": [],
   "source": [
    "print(x[0])\n",
    "print()\n",
    "for i in y:\n",
    "    print(i)"
   ]
  },
  {
   "cell_type": "markdown",
   "metadata": {},
   "source": [
    "We can also open files containing binary data, by passing `'rb'` to the `open` function:"
   ]
  },
  {
   "cell_type": "code",
   "execution_count": null,
   "metadata": {
    "scrolled": true
   },
   "outputs": [],
   "source": [
    "with open('Havana.mp3', 'rb') as f:\n",
    "    contents = f.read()\n",
    "    \n",
    "print(contents[:100])\n",
    "print()\n",
    "for i in range(10):\n",
    "    print(contents[i])"
   ]
  },
  {
   "cell_type": "markdown",
   "metadata": {},
   "source": [
    "We can similarly _write_ binary data to a file by opening the file in `'wb'` mode."
   ]
  },
  {
   "cell_type": "markdown",
   "metadata": {},
   "source": [
    "## Converting Between `bytes` and `str`\n",
    "\n",
    "The conversion between a raw sequence of bytes (`bytes`) and a \"character string\" (`str`) is described by an _encoding_ (which specifies how each character is represented as a sequence of bytes).\n",
    "\n",
    "There are many different possible encodings for string data.  The most commonly used encodings are `ASCII` (which represents characters as 7-bit sequences, and so can only represent a small subset of possible characters), and `UTF-8` (where each character is represented by at most four bytes, and which can represent many more characters as a result)."
   ]
  },
  {
   "cell_type": "code",
   "execution_count": null,
   "metadata": {},
   "outputs": [],
   "source": [
    "x = \"Fußgänger\"\n",
    "u8 = x.encode('utf-8')\n",
    "print(u8)\n",
    "print()\n",
    "u16 = x.encode('utf-16')\n",
    "print(u16)"
   ]
  },
  {
   "cell_type": "markdown",
   "metadata": {},
   "source": [
    "When decoding (converting from a bytestring to a character string), we need to know what encoding was used to create the binary data."
   ]
  },
  {
   "cell_type": "code",
   "execution_count": null,
   "metadata": {},
   "outputs": [],
   "source": [
    "x = \"Fußgänger\"\n",
    "u8 = x.encode('utf-8')\n",
    "print(u8)\n",
    "print()\n",
    "u16 = x.encode('utf-16')\n",
    "print(u16)"
   ]
  },
  {
   "cell_type": "code",
   "execution_count": null,
   "metadata": {},
   "outputs": [],
   "source": [
    "print(u8.decode('utf-8'))"
   ]
  },
  {
   "cell_type": "markdown",
   "metadata": {},
   "source": [
    "## Byte Arrays\n",
    "\n",
    "`bytearray` is the _mutable_ equivalent to `bytes` (much like `list` vs `tuple`).  On occasion, this mutable structure might be preferable to an immutable structure (because certain operations might be faster, or might only be possible, on one type)."
   ]
  },
  {
   "cell_type": "code",
   "execution_count": null,
   "metadata": {},
   "outputs": [],
   "source": [
    "ba = bytearray()\n",
    "ba.extend(u8)\n",
    "print(ba)"
   ]
  },
  {
   "cell_type": "code",
   "execution_count": null,
   "metadata": {},
   "outputs": [],
   "source": [
    "ba.extend('übergänge'.encode('utf-8'))\n",
    "print(ba)"
   ]
  },
  {
   "cell_type": "code",
   "execution_count": null,
   "metadata": {},
   "outputs": [],
   "source": [
    "print(ba.decode('utf-8'))"
   ]
  }
 ],
 "metadata": {
  "kernelspec": {
   "display_name": "Python 3",
   "language": "python",
   "name": "python3"
  },
  "language_info": {
   "codemirror_mode": {
    "name": "ipython",
    "version": 3
   },
   "file_extension": ".py",
   "mimetype": "text/x-python",
   "name": "python",
   "nbconvert_exporter": "python",
   "pygments_lexer": "ipython3",
   "version": "3.7.0"
  }
 },
 "nbformat": 4,
 "nbformat_minor": 2
}
