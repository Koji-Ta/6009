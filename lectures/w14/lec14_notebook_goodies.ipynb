{
 "cells": [
  {
   "cell_type": "code",
   "execution_count": 1,
   "metadata": {},
   "outputs": [
    {
     "data": {
      "application/javascript": [
       "IPython.notebook.events.off('checkpoint_created.Notebook');\n",
       "IPython.notebook.events.off('notebook_saved.Notebook');"
      ],
      "text/plain": [
       "<IPython.core.display.Javascript object>"
      ]
     },
     "metadata": {},
     "output_type": "display_data"
    }
   ],
   "source": [
    "%%javascript\n",
    "IPython.notebook.events.off('checkpoint_created.Notebook');\n",
    "IPython.notebook.events.off('notebook_saved.Notebook');"
   ]
  },
  {
   "cell_type": "markdown",
   "metadata": {},
   "source": [
    "# Another Highlight: Complex Numbers"
   ]
  },
  {
   "cell_type": "code",
   "execution_count": null,
   "metadata": {},
   "outputs": [],
   "source": [
    "import math\n",
    "\n",
    "y = (-7)**0.5\n",
    "x = 2+3j\n",
    "\n",
    "print(y)\n",
    "print(y.real)\n",
    "print(y.imag)\n",
    "print(abs(y))\n",
    "\n",
    "# discrete Fourier transform of a given signal x[n]\n",
    "def dft(x):\n",
    "    N = len(x)\n",
    "    return [1/N * sum(x[n] * math.e**(-1j*2*math.pi*n/N*k) for n in range(N)) for k in range(N)]\n",
    "\n",
    "dft([0, 1, 0, 0])"
   ]
  },
  {
   "cell_type": "markdown",
   "metadata": {},
   "source": [
    "# Python Standard Library Highlights\n",
    "\n",
    "Another reason to like Python (which we've not really utilized so far) is that it has a huge _standard library_ of useful modules/functions/classes.  We certainly can't talk about it all here (see https://docs.python.org/3/library/index.html, the list is **huge**), but we can talk about some highlights."
   ]
  },
  {
   "cell_type": "markdown",
   "metadata": {},
   "source": [
    "## Collections (`import collections`)"
   ]
  },
  {
   "cell_type": "code",
   "execution_count": null,
   "metadata": {},
   "outputs": [],
   "source": [
    "items = ['cat', 'dog', 'ferret', 'tomato', 'chicken', 'toad']\n",
    "\n",
    "o = {}\n",
    "for item in items:\n",
    "    if item[0] not in o:\n",
    "        o[item[0]] = 0\n",
    "    o[item[0]] += 1\n",
    "    \n",
    "o2 = {}\n",
    "for item in items:\n",
    "    if item[0] not in o2:\n",
    "        o2[item[0]] = []\n",
    "    o2[item[0]].append(item)\n",
    "    \n",
    "print(o)\n",
    "print(o2)\n",
    "\n",
    "def histogram(x):\n",
    "    o = {}\n",
    "    for i in x:\n",
    "        o[i] = o.get(i, 0) + 1\n",
    "    return o\n",
    "\n",
    "\n",
    "histogram('brontosaurus')"
   ]
  },
  {
   "cell_type": "code",
   "execution_count": null,
   "metadata": {},
   "outputs": [],
   "source": [
    "entry = 'Adam', 'Hartz', 29, None, 'Hazel'\n",
    "\n",
    "firstname = entry[0]\n",
    "lastname = entry[1]\n",
    "age = entry[2]\n",
    "hair = entry[3]\n",
    "eyes = entry[4]\n",
    "\n",
    "firstname, lastname, age, hair, eyes = entry"
   ]
  },
  {
   "cell_type": "code",
   "execution_count": null,
   "metadata": {},
   "outputs": [],
   "source": [
    "class Env:\n",
    "    def __init__(self, elts=None, parent=None):\n",
    "        self.elts = elts or {}\n",
    "        self.parent = parent\n",
    "        \n",
    "    def __getitem__(self, key):\n",
    "        if key in self.elts:\n",
    "            return self.elts[key]\n",
    "        elif self.parent is not None:\n",
    "            return self.parent[key]\n",
    "        else:\n",
    "            raise KeyError(key)\n",
    "            \n",
    "    def __setitem__(self, key, val):\n",
    "        self.elts[key] = val\n",
    "\n",
    "x1 = {'cat': 'dog'}\n",
    "x2 = {'coca': 'cola', 'cat': 7}\n",
    "x3 = {'hello': 'goodbye'}\n",
    "e = Env(x1, parent=Env(x2, parent=Env(x3)))\n",
    "e['coca']"
   ]
  },
  {
   "cell_type": "markdown",
   "metadata": {},
   "source": [
    "## Working with iterators (`import itertools`)"
   ]
  },
  {
   "cell_type": "code",
   "execution_count": null,
   "metadata": {},
   "outputs": [],
   "source": [
    "def count(start, step=1):\n",
    "    while True:\n",
    "        yield start\n",
    "        start += step\n",
    "        \n",
    "c = count(17, 0.1)\n",
    "for i in range(5):\n",
    "    print(next(c))"
   ]
  },
  {
   "cell_type": "code",
   "execution_count": null,
   "metadata": {},
   "outputs": [],
   "source": [
    "def repeat(inp, n=None):\n",
    "    # yield elements from inp forever\n",
    "    # for example, cycle('ABCD') => 'A' 'B' 'C' 'D' 'A' 'B' 'C' 'D' ...\n",
    "    pass\n",
    "        \n",
    "c = repeat('cat.', 20)\n",
    "\n",
    "for i in c:\n",
    "    print(i)\n",
    "\n",
    "c = repeat('dog.')\n",
    "for i in range(101):\n",
    "    print(next(c))"
   ]
  },
  {
   "cell_type": "code",
   "execution_count": null,
   "metadata": {},
   "outputs": [],
   "source": [
    "def cycle(inp):\n",
    "    # yield elements from inp forever\n",
    "    # for example, cycle('ABCD') => 'A' 'B' 'C' 'D' 'A' 'B' 'C' 'D' ...\n",
    "    pass\n",
    "        \n",
    "c = cycle('hello')\n",
    "for i in range(21):\n",
    "    print(next(c))"
   ]
  },
  {
   "cell_type": "code",
   "execution_count": null,
   "metadata": {},
   "outputs": [],
   "source": [
    "def a():\n",
    "    yield '6.009'\n",
    "    \n",
    "def b():\n",
    "    yield 'cat'\n",
    "    yield 'dog'\n",
    "    yield 'tomato'\n",
    "\n",
    "def chain(*args):\n",
    "    # yield from each iterator in order\n",
    "    pass\n",
    "\n",
    "c = chain(a(), b(), ['hello', 'there'])\n",
    "for i in c:\n",
    "    print(i)"
   ]
  },
  {
   "cell_type": "markdown",
   "metadata": {},
   "source": [
    "## Other Highlights\n",
    "\n",
    "* mathy things: `math`, `cmath`, `random`, `statistics`\n",
    "* rational numbers: `fractions`\n",
    "* tools for working with functions: `functools`\n",
    "* implementations of built-in operations as functions: `operator`\n",
    "* tools for interacting with operating system: `os`, `sys`\n",
    "* tools for dealing with errors/reporting: `traceback`, `logging`\n",
    "* tools for creating/interacting with Internet protocols/etc\n",
    "    * `email`, `smtplib`, etc\n",
    "    * `http.server`, `urllib.request`, etc\n",
    "\n",
    "These modules can be super useful, but aren't really worth talking about here (their contents are kind of boring)."
   ]
  },
  {
   "cell_type": "markdown",
   "metadata": {},
   "source": [
    "## External Packages\n",
    "\n",
    "Outside of the standard library, there are a wealth of other useful packages!\n",
    "\n",
    "Examples:\n",
    "\n",
    "* `sympy` for symbolic algebra\n",
    "* `numpy` for numeric computation (fast operations on large multi-dim arrays+matrices)\n",
    "* `matplotlib` for generating plots\n",
    "* `nltk` for natural language processing\n",
    "* etc, etc, etc"
   ]
  }
 ],
 "metadata": {
  "kernelspec": {
   "display_name": "Python 3",
   "language": "python",
   "name": "python3"
  },
  "language_info": {
   "codemirror_mode": {
    "name": "ipython",
    "version": 3
   },
   "file_extension": ".py",
   "mimetype": "text/x-python",
   "name": "python",
   "nbconvert_exporter": "python",
   "pygments_lexer": "ipython3",
   "version": "3.7.0"
  }
 },
 "nbformat": 4,
 "nbformat_minor": 2
}
