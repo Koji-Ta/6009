{
 "cells": [
  {
   "cell_type": "markdown",
   "metadata": {
    "collapsed": true
   },
   "source": [
    "# Dictionaries\n",
    "Dictionaries are like sets, except that the \"elements\" of the dictionary are treated as keys, and a value is associated with that key. As in sets, the keys to dictionaries must be hashable objects. However, the values associated with the key can be anything, and can be mutable. In addition, the association between key and value can also be changed."
   ]
  },
  {
   "cell_type": "code",
   "execution_count": 1,
   "metadata": {},
   "outputs": [
    {
     "name": "stdout",
     "output_type": "stream",
     "text": [
      "{27: 'my value', 'dog': [1, 2, 'three']}\n"
     ]
    }
   ],
   "source": [
    "table = {} #Create empty dictionary. dict() also works\n",
    "table[27] = 'my value'\n",
    "table[\"dog\"] = [1, 2, \"three\"]\n",
    "print(table)"
   ]
  },
  {
   "cell_type": "code",
   "execution_count": 2,
   "metadata": {},
   "outputs": [
    {
     "name": "stdout",
     "output_type": "stream",
     "text": [
      "table: {27: 3, 'dog': [1, 2, 'three']}\n"
     ]
    }
   ],
   "source": [
    "table[27] = 3\n",
    "print(\"table:\", table)"
   ]
  },
  {
   "cell_type": "code",
   "execution_count": 3,
   "metadata": {},
   "outputs": [
    {
     "name": "stdout",
     "output_type": "stream",
     "text": [
      "table: {27: 3, 'dog': [1, 2, 'three'], 'cat': 'unhappy'}\n"
     ]
    }
   ],
   "source": [
    "#Is key in a dictionary? Can use 'in' syntax.\n",
    "if 'dog' in table:\n",
    "    table['cat'] = 'unhappy'\n",
    "print(\"table:\", table)"
   ]
  },
  {
   "cell_type": "code",
   "execution_count": 4,
   "metadata": {},
   "outputs": [
    {
     "name": "stdout",
     "output_type": "stream",
     "text": [
      "key: 27 val: 3\n",
      "key: dog val: [1, 2, 'three']\n",
      "key: cat val: unhappy\n"
     ]
    }
   ],
   "source": [
    "# Iterate over keys in a dictionary. Any order can occur!\n",
    "for key in table:\n",
    "    print(\"key:\", key, \"val:\", table[key])"
   ]
  },
  {
   "cell_type": "code",
   "execution_count": 5,
   "metadata": {},
   "outputs": [
    {
     "name": "stdout",
     "output_type": "stream",
     "text": [
      "key: 27 ; val: 3\n",
      "key: dog ; val: [1, 2, 'three']\n",
      "key: cat ; val: unhappy\n"
     ]
    }
   ],
   "source": [
    "# Also, can iterate over key, val items in a dictionary. Any order can occur!\n",
    "for key, val in table.items():\n",
    "    print(\"key:\", key, \"; val:\", val)"
   ]
  },
  {
   "cell_type": "code",
   "execution_count": 6,
   "metadata": {},
   "outputs": [
    {
     "name": "stdout",
     "output_type": "stream",
     "text": [
      "table: {'dog': [1, 2, 'three'], 'cat': 'unhappy'}\n"
     ]
    }
   ],
   "source": [
    "# Remove element from a dictionary\n",
    "del table[27]  #Exception if key is not in dictionary\n",
    "print(\"table:\", table)"
   ]
  },
  {
   "cell_type": "code",
   "execution_count": 7,
   "metadata": {},
   "outputs": [
    {
     "data": {
      "text/plain": [
       "{0: 0, 1: 1, 2: 8, 3: 27, 4: 64, 5: 125, 6: 216, 7: 343}"
      ]
     },
     "execution_count": 7,
     "metadata": {},
     "output_type": "execute_result"
    }
   ],
   "source": [
    "# Dictionary comprehensions also possible\n",
    "{n: n**3 for n in range(8)}"
   ]
  },
  {
   "cell_type": "markdown",
   "metadata": {
    "collapsed": true
   },
   "source": [
    "## Some fun with sets and dictionaries...\n",
    "\n",
    "### Problem: \n",
    "Return a new list with the 2nd instance of the first element that is repeated in the input list removed. The rest of the list should remain unchanged (be the same as the input).\n",
    "\n",
    "### Goal:\n",
    "Our goal is to use this problem to build some familiarity with <b>sets and dictionaries</b> -- so the code versions below are written to use sets and/or dictionaries. This is definitely not the only way to solve the problem, but it happens to also be the most efficient away. (At the very end, we'll also show a more \"direct\", but less efficient, solution which does not use sets or dictionaries.)"
   ]
  },
  {
   "cell_type": "code",
   "execution_count": 8,
   "metadata": {},
   "outputs": [],
   "source": [
    "inp = [0, 12, 12, 0, 12, 12, 34, 56, 23, 11, 45, 2, 3, 4, 7, 10, 12]\n",
    "\n",
    "inp_str = ['zero', 'twelve', 'twelve', 'zero', 'twelve', 'twelve',\n",
    "           'thirty four', 'fifty six', 'twenty three', 'eleven',\n",
    "           'forty five', 'two', 'three', 'four', 'seven', 'ten', 'twelve']"
   ]
  },
  {
   "cell_type": "markdown",
   "metadata": {},
   "source": [
    "### Version 1"
   ]
  },
  {
   "cell_type": "code",
   "execution_count": 9,
   "metadata": {},
   "outputs": [
    {
     "name": "stdout",
     "output_type": "stream",
     "text": [
      "data: [0, 12, 12, 0, 12, 12, 34, 56, 23, 11, 45, 2, 3, 4, 7, 10, 12]\n",
      "first repeated: 0\n",
      "index: 3\n"
     ]
    },
    {
     "data": {
      "text/plain": [
       "[0, 12, 12, 12, 12, 34, 56, 23, 11, 45, 2, 3, 4, 7, 10, 12]"
      ]
     },
     "execution_count": 9,
     "metadata": {},
     "output_type": "execute_result"
    }
   ],
   "source": [
    "def remove_2nd_instance_v1(data):\n",
    "    print(\"data:\", data)\n",
    "\n",
    "    #Create a dictionary with frequencies\n",
    "    freqd = {}\n",
    "    for x in data:\n",
    "        freqd[x] = freqd.get(x, 0) + 1\n",
    "        #The get() method returns the value of the key in the dictionary\n",
    "        #if it exists, and otherwise returns the default value (2nd param)\n",
    "      \n",
    "    #Look for first element in list, that is repeated somewhere later\n",
    "    repeated = None\n",
    "    for x in data:\n",
    "        if freqd[x] >= 2:\n",
    "            repeated = x\n",
    "            break\n",
    "    print(\"first repeated:\", repeated)\n",
    "    \n",
    "    #Look through the list to find where the 2nd instance of the repeat is\n",
    "    index = len(data)\n",
    "    count = 0\n",
    "    for i in range(len(data)):\n",
    "        if data[i] == repeated:\n",
    "            count += 1\n",
    "        if count == 2:\n",
    "            index = i\n",
    "            break\n",
    "    print(\"index:\", index)\n",
    "            \n",
    "    output = data[:]        #make copy of data\n",
    "    #Remove this 2nd instance if it exists from a copy of the input\n",
    "    if index < len(output):\n",
    "        output.pop(index)\n",
    "    return output\n",
    "\n",
    "remove_2nd_instance_v1(inp)"
   ]
  },
  {
   "cell_type": "code",
   "execution_count": 10,
   "metadata": {},
   "outputs": [
    {
     "name": "stdout",
     "output_type": "stream",
     "text": [
      "data: ['zero', 'twelve', 'twelve', 'zero', 'twelve', 'twelve', 'thirty four', 'fifty six', 'twenty three', 'eleven', 'forty five', 'two', 'three', 'four', 'seven', 'ten', 'twelve']\n",
      "first repeated: zero\n",
      "index: 3\n",
      "['zero', 'twelve', 'twelve', 'twelve', 'twelve', 'thirty four', 'fifty six', 'twenty three', 'eleven', 'forty five', 'two', 'three', 'four', 'seven', 'ten', 'twelve']\n"
     ]
    }
   ],
   "source": [
    "output = remove_2nd_instance_v1(inp_str)  #works also for lists of other kinds of elements\n",
    "print(output)"
   ]
  },
  {
   "cell_type": "markdown",
   "metadata": {},
   "source": [
    "### Revised Spec"
   ]
  },
  {
   "cell_type": "markdown",
   "metadata": {},
   "source": [
    "Our procedure removed <tt>0</tt> (<tt>'zero'</tt>) from the list at index 3, since that is the first repeat of the \"earliest\" element that has a later repeat. Is that what we want?  Our specification is perhaps <b>ambiguous</b>. Arguably, we might want to remove <tt>12</tt> at index 2 since <tt>12</tt> appeared twice before <tt>0</tt> appeared twice. Let's clarify our spec: by 'first repeated element' we mean the element that appears twice <b>first</b>. Thus \n",
    "\n",
    "<tt>inp = [0, 12, 12, 0, 12, 12, 34, 56, 23, 11, 45, 2, 3, 4, 11, 10, 12]</tt> \n",
    "\n",
    "should give\n",
    "<tt>expect = [0, 12, 0, 12, 12, 34, 56, 23, 11, 45, 2, 3, 4, 11, 10, 12] # remove second 12</tt>"
   ]
  },
  {
   "cell_type": "markdown",
   "metadata": {},
   "source": [
    "### Version 2 -- remove the second appearance of the first element that makes a second appearance"
   ]
  },
  {
   "cell_type": "code",
   "execution_count": 11,
   "metadata": {},
   "outputs": [
    {
     "name": "stdout",
     "output_type": "stream",
     "text": [
      "data: [0, 12, 12, 0, 12, 12, 34, 56, 23, 11, 45, 2, 3, 4, 7, 10, 12]\n",
      "freqd = {0: [2, 3], 12: [5, 2], 34: [1, 6], 56: [1, 7], 23: [1, 8], 11: [1, 9], 45: [1, 10], 2: [1, 11], 3: [1, 12], 4: [1, 13], 7: [1, 14], 10: [1, 15]}\n",
      "index: 2\n"
     ]
    },
    {
     "data": {
      "text/plain": [
       "[0, 12, 0, 12, 12, 34, 56, 23, 11, 45, 2, 3, 4, 7, 10, 12]"
      ]
     },
     "execution_count": 11,
     "metadata": {},
     "output_type": "execute_result"
    }
   ],
   "source": [
    "def remove_2nd_instance_v2(data):\n",
    "    print(\"data:\", data)\n",
    "\n",
    "    # Creat_e a dictionary whose values are frequencies AND indices of elements,\n",
    "    # i.e., [freq_of_val, index_of_first_appearance_or_of_second_appearance_if_repeated].\n",
    "    # We store either the index of the first element, or for repeated elements \n",
    "    # we store the index of the 2nd instance (first repeat). Ignore additional repeats.\n",
    "    freqd = {}\n",
    "    \n",
    "    for i in range(len(data)): \n",
    "        x = data[i]\n",
    "        if x in freqd:\n",
    "            freqd[x][0] += 1\n",
    "            if freqd[x][0] == 2:\n",
    "                freqd[x][1] = i\n",
    "        else:\n",
    "            freqd[x] = [1, i]\n",
    "    print(\"freqd =\", freqd)\n",
    "            \n",
    "    #Get the index of the 2nd instance of the earliest appearing repeated element.\n",
    "    index = len(data)\n",
    "    for x in data:\n",
    "        entry = freqd[x]\n",
    "        if entry[0] >= 2:\n",
    "            index = min(index, entry[1])\n",
    "    print(\"index:\", index)\n",
    "    \n",
    "    #Remove this 2nd instance\n",
    "    output = data[:]        #make copy of data\n",
    "    if index < len(output):\n",
    "        output.pop(index) #list pop -- mutates list\n",
    "    return output\n",
    "\n",
    "remove_2nd_instance_v2(inp)"
   ]
  },
  {
   "cell_type": "markdown",
   "metadata": {},
   "source": [
    "Hurray! We correctly detect the second <tt>12</tt> as the first repeated element, and remove that.\n",
    "\n",
    "But can we do better in terms of writing prettier and tighter code -- perhaps something using <b>sets</b> rather\n",
    "than <b>dictionaries</b>?"
   ]
  },
  {
   "cell_type": "markdown",
   "metadata": {},
   "source": [
    "### Version 3 -- simplified using a set rather than a dictionary, to detect first repeat"
   ]
  },
  {
   "cell_type": "code",
   "execution_count": 12,
   "metadata": {},
   "outputs": [
    {
     "name": "stdout",
     "output_type": "stream",
     "text": [
      "data: [0, 12, 12, 0, 12, 12, 34, 56, 23, 11, 45, 2, 3, 4, 7, 10, 12]\n",
      "freq_set: {0, 12}\n",
      "index: 2\n"
     ]
    },
    {
     "data": {
      "text/plain": [
       "[0, 12, 0, 12, 12, 34, 56, 23, 11, 45, 2, 3, 4, 7, 10, 12]"
      ]
     },
     "execution_count": 12,
     "metadata": {},
     "output_type": "execute_result"
    }
   ],
   "source": [
    "def remove_2nd_instance_v3(data):\n",
    "    print(\"data:\", data)\n",
    "\n",
    "    index = len(data)\n",
    "    repeated = set()\n",
    "    for index, x in enumerate(data):\n",
    "        if x in repeated:\n",
    "            break\n",
    "        repeated.add(x)   \n",
    "    print(\"freq_set:\", repeated)\n",
    "    print(\"index:\", index)\n",
    "\n",
    "    #Remove this 2nd instance\n",
    "    output = data[:index] + data[index+1:]  # list slicing rather than list pop\n",
    "    return output\n",
    "\n",
    "remove_2nd_instance_v3(inp)"
   ]
  },
  {
   "cell_type": "markdown",
   "metadata": {},
   "source": [
    "### Version 4 -- more direct but less efficient\n",
    "Here's a very short solution to the original problem (with the first interpretation of the spec). It's interesting to think about how this works, and its virtues and/or failings compared to the earlier versions. This operates directly on the input list, without making any auxiliary sets and dictionaries, so in some sense is a more direct solution of the earlier problem. But it doesn't use sets and dictionaries, and as a result, it is slow for large inputs (taking quadratic time instead of linear). Think about why!"
   ]
  },
  {
   "cell_type": "code",
   "execution_count": 13,
   "metadata": {},
   "outputs": [
    {
     "name": "stdout",
     "output_type": "stream",
     "text": [
      "data: [0, 12, 12, 0, 12, 12, 34, 56, 23, 11, 45, 2, 3, 4, 7, 10, 12]\n",
      "ii: 3\n"
     ]
    },
    {
     "data": {
      "text/plain": [
       "[0, 12, 12, 12, 12, 34, 56, 23, 11, 45, 2, 3, 4, 7, 10, 12]"
      ]
     },
     "execution_count": 13,
     "metadata": {},
     "output_type": "execute_result"
    }
   ],
   "source": [
    "def remove_2nd_instance_v4(data):\n",
    "    print(\"data:\", data)\n",
    "    for i in range(len(data)):\n",
    "        try:\n",
    "            ii = data.index(data[i],i+1) #raises exception if data[i] not found later in list\n",
    "            print(\"ii:\", ii)\n",
    "            return data[:ii] + data[ii+1:]\n",
    "        except ValueError:\n",
    "            continue\n",
    "    return data[:]\n",
    "\n",
    "remove_2nd_instance_v4(inp)"
   ]
  },
  {
   "cell_type": "markdown",
   "metadata": {
    "collapsed": true
   },
   "source": [
    "Consider it a challenge to you to revise this to go with our revised spec, i.e., to remove the first repeated element (12)!"
   ]
  }
 ],
 "metadata": {
  "kernelspec": {
   "display_name": "Python 3",
   "language": "python",
   "name": "python3"
  },
  "language_info": {
   "codemirror_mode": {
    "name": "ipython",
    "version": 3
   },
   "file_extension": ".py",
   "mimetype": "text/x-python",
   "name": "python",
   "nbconvert_exporter": "python",
   "pygments_lexer": "ipython3",
   "version": "3.6.4"
  }
 },
 "nbformat": 4,
 "nbformat_minor": 2
}
